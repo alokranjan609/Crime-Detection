{
  "nbformat": 4,
  "nbformat_minor": 0,
  "metadata": {
    "colab": {
      "provenance": []
    },
    "kernelspec": {
      "name": "python3",
      "display_name": "Python 3"
    },
    "language_info": {
      "name": "python"
    }
  },
  "cells": [
    {
      "cell_type": "code",
      "execution_count": 1,
      "metadata": {
        "id": "DqFutpKHW_1M"
      },
      "outputs": [],
      "source": [
        "!mkdir -p ~/.kaggle\n",
        "!cp kaggle.json ~/.kaggle/\n",
        "!chmod 600 ~/.kaggle/kaggle.json"
      ]
    },
    {
      "cell_type": "code",
      "source": [
        "!kaggle datasets download -d odins0n/ucf-crime-dataset"
      ],
      "metadata": {
        "colab": {
          "base_uri": "https://localhost:8080/"
        },
        "id": "8v4tFU9nX8sT",
        "outputId": "00bca5f1-9e35-44a4-cb9c-6899048e2b61"
      },
      "execution_count": 2,
      "outputs": [
        {
          "output_type": "stream",
          "name": "stdout",
          "text": [
            "Dataset URL: https://www.kaggle.com/datasets/odins0n/ucf-crime-dataset\n",
            "License(s): CC0-1.0\n",
            "Downloading ucf-crime-dataset.zip to /content\n",
            "100% 11.0G/11.0G [01:38<00:00, 177MB/s]\n",
            "100% 11.0G/11.0G [01:38<00:00, 120MB/s]\n"
          ]
        }
      ]
    },
    {
      "cell_type": "code",
      "source": [
        "import zipfile\n",
        "zip_ref = zipfile.ZipFile('/content/ucf-crime-dataset.zip', 'r')\n",
        "zip_ref.extractall('/content')\n",
        "zip_ref.close()"
      ],
      "metadata": {
        "id": "H12lKcgFYB4R"
      },
      "execution_count": 3,
      "outputs": []
    },
    {
      "cell_type": "code",
      "source": [
        "import tensorflow as tf\n",
        "import os\n",
        "import numpy as np\n",
        "from sklearn.model_selection import train_test_split\n",
        "from tensorflow.keras.preprocessing.image import ImageDataGenerator"
      ],
      "metadata": {
        "id": "il7CzVMxYcjj"
      },
      "execution_count": 5,
      "outputs": []
    },
    {
      "cell_type": "code",
      "source": [
        "# Set parameters\n",
        "IMG_SIZE = 224  # Image size for resizing\n",
        "BATCH_SIZE = 32\n",
        "NUM_CLASSES = 14  # Number of classes in the UCF Crime dataset"
      ],
      "metadata": {
        "id": "fRFAMfNiax73"
      },
      "execution_count": 7,
      "outputs": []
    },
    {
      "cell_type": "code",
      "source": [
        "data_dir = '/content/Train'\n",
        "\n",
        "# ImageDataGenerator for loading images\n",
        "datagen = ImageDataGenerator(validation_split=0.2, rescale=1./255)\n",
        "\n",
        "# Training data generator\n",
        "train_generator = datagen.flow_from_directory(data_dir,\n",
        "                                              target_size=(IMG_SIZE, IMG_SIZE),\n",
        "                                              batch_size=BATCH_SIZE,\n",
        "                                              class_mode='categorical',\n",
        "                                              subset='training')\n",
        "\n",
        "# Validation data generator\n",
        "val_generator = datagen.flow_from_directory(data_dir,\n",
        "                                            target_size=(IMG_SIZE, IMG_SIZE),\n",
        "                                            batch_size=BATCH_SIZE,\n",
        "                                            class_mode='categorical',\n",
        "                                            subset='validation')"
      ],
      "metadata": {
        "colab": {
          "base_uri": "https://localhost:8080/"
        },
        "id": "tKFuak34bj9-",
        "outputId": "4b3981c8-ae9b-4e79-ca03-287733601103"
      },
      "execution_count": 8,
      "outputs": [
        {
          "output_type": "stream",
          "name": "stdout",
          "text": [
            "Found 1013081 images belonging to 14 classes.\n",
            "Found 253264 images belonging to 14 classes.\n"
          ]
        }
      ]
    },
    {
      "cell_type": "code",
      "source": [
        "# Load the ResNet50 model without the top classification layers\n",
        "base_model = tf.keras.applications.ResNet50(include_top=False, input_shape=(IMG_SIZE, IMG_SIZE, 3))\n",
        "\n",
        "# Freeze the base model layers\n",
        "base_model.trainable = False\n",
        "\n",
        "# Add custom layers on top\n",
        "model = tf.keras.Sequential([\n",
        "    base_model,\n",
        "    tf.keras.layers.GlobalAveragePooling2D(),\n",
        "    tf.keras.layers.Dense(1024, activation='relu'),\n",
        "    tf.keras.layers.Dropout(0.5),\n",
        "    tf.keras.layers.Dense(NUM_CLASSES, activation='softmax')\n",
        "])\n",
        "\n",
        "# Compile the model\n",
        "model.compile(optimizer=tf.keras.optimizers.Adam(learning_rate=0.001),\n",
        "              loss='categorical_crossentropy',\n",
        "              metrics=['accuracy'])\n",
        "\n",
        "\n"
      ],
      "metadata": {
        "id": "sjrTIt54cCa8"
      },
      "execution_count": 10,
      "outputs": []
    },
    {
      "cell_type": "code",
      "source": [
        "# Define callbacks\n",
        "early_stopping = tf.keras.callbacks.EarlyStopping(monitor='val_loss', patience=10, restore_best_weights=True)\n",
        "reduce_lr = tf.keras.callbacks.ReduceLROnPlateau(monitor='val_loss', factor=0.1, patience=5)\n",
        "\n",
        "# Train the top layers\n",
        "history = model.fit(train_generator,\n",
        "                    validation_data=val_generator,\n",
        "                    epochs=20,\n",
        "                    callbacks=[early_stopping, reduce_lr])\n",
        "\n",
        "# Unfreeze the base model for fine-tuning\n",
        "base_model.trainable = True\n",
        "\n",
        "# Recompile with a lower learning rate\n",
        "model.compile(optimizer=tf.keras.optimizers.Adam(learning_rate=1e-5),\n",
        "              loss='categorical_crossentropy',\n",
        "              metrics=['accuracy'])\n",
        "\n",
        "# Fine-tune the model\n",
        "history_fine = model.fit(train_generator,\n",
        "                         validation_data=val_generator,\n",
        "                         epochs=20,\n",
        "                         callbacks=[early_stopping, reduce_lr])\n"
      ],
      "metadata": {
        "id": "-f18dC3Yce8_"
      },
      "execution_count": null,
      "outputs": []
    },
    {
      "cell_type": "code",
      "source": [
        "# Evaluate the model on the validation set\n",
        "val_loss, val_acc = model.evaluate(val_generator)\n",
        "print(f\"Validation Accuracy: {val_acc * 100:.2f}%\")\n",
        "\n",
        "# Save the model\n",
        "model.save('ucf_crime_image_classifier.h5')\n"
      ],
      "metadata": {
        "id": "NHiXIRrzctr2"
      },
      "execution_count": null,
      "outputs": []
    }
  ]
}